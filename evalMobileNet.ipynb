{
 "cells": [
  {
   "cell_type": "markdown",
   "metadata": {},
   "source": [
    "# MobileNetv3 Model Evaluation Notebook"
   ]
  },
  {
   "cell_type": "code",
   "execution_count": 1,
   "metadata": {},
   "outputs": [],
   "source": [
    "import torch\n",
    "from torch.utils.data import DataLoader\n",
    "from pathlib import Path\n",
    "from dataset import Paint2CodeDataset\n",
    "from utils import collate_fn, ids_to_tokens, generate_visualization_object, img_transformation\n",
    "from modelArchitecture.modelMobileNetV3 import Encoder, Decoder\n",
    "from nltk.translate.bleu_score import corpus_bleu, SmoothingFunction\n",
    "from tqdm import tqdm\n",
    "import pickle\n",
    "from GUIconverter.GUIconverter import GUIconverter\n",
    "from IPython.display import display, HTML, Image"
   ]
  },
  {
   "cell_type": "markdown",
   "metadata": {},
   "source": [
    "## Set parameters"
   ]
  },
  {
   "cell_type": "code",
   "execution_count": 4,
   "metadata": {},
   "outputs": [],
   "source": [
    "model_file_path = \"./modelsCustomCNN/models/ED--epoch-73--loss-0.03660.pth\"  \n",
    "data_path = Path(\"data\", \"all_data\")\n",
    "use_cuda = True\n",
    "img_size = 224\n",
    "split = \"test\"\n",
    "batch_size = 4\n",
    "seed = 42"
   ]
  },
  {
   "cell_type": "code",
   "execution_count": 5,
   "metadata": {},
   "outputs": [
    {
     "name": "stdout",
     "output_type": "stream",
     "text": [
      "Using device: cpu\n"
     ]
    }
   ],
   "source": [
    "# Set random seeds for reproducibility\n",
    "torch.manual_seed(seed)\n",
    "torch.cuda.manual_seed(seed)\n",
    "\n",
    "# Setup GPU\n",
    "device = torch.device(\"cuda\" if torch.cuda.is_available() and use_cuda else \"cpu\")\n",
    "print(f\"Using device: {device}\")\n",
    "\n",
    "# Ensure the model file exists\n",
    "assert Path(model_file_path).exists(), \"Model file path does not exist\""
   ]
  },
  {
   "cell_type": "markdown",
   "metadata": {},
   "source": [
    "## Load the saved model"
   ]
  },
  {
   "cell_type": "code",
   "execution_count": 6,
   "metadata": {},
   "outputs": [
    {
     "data": {
      "text/plain": [
       "17"
      ]
     },
     "execution_count": 6,
     "metadata": {},
     "output_type": "execute_result"
    }
   ],
   "source": [
    "loaded_model = torch.load(model_file_path, map_location=device)\n",
    "vocab = loaded_model[\"vocab\"]\n",
    "\n",
    "assert vocab is not None, \"Vocabulary must be loaded.\"\n",
    "len(vocab)"
   ]
  },
  {
   "cell_type": "markdown",
   "metadata": {},
   "source": [
    "## Initialize the models"
   ]
  },
  {
   "cell_type": "code",
   "execution_count": 7,
   "metadata": {},
   "outputs": [
    {
     "name": "stderr",
     "output_type": "stream",
     "text": [
      "Downloading: \"https://download.pytorch.org/models/mobilenet_v3_small-047dcff4.pth\" to C:\\Users\\gobik/.cache\\torch\\hub\\checkpoints\\mobilenet_v3_small-047dcff4.pth\n",
      "100%|██████████| 9.83M/9.83M [00:01<00:00, 6.53MB/s]\n"
     ]
    },
    {
     "name": "stdout",
     "output_type": "stream",
     "text": [
      "Model loaded and set to evaluation mode.\n"
     ]
    }
   ],
   "source": [
    "embed_size = 64\n",
    "hidden_size = 256\n",
    "num_layers = 2\n",
    "\n",
    "encoder = Encoder(embed_size).to(device)\n",
    "decoder = Decoder(embed_size, hidden_size, len(vocab), num_layers).to(device)\n",
    "\n",
    "# Load model weights\n",
    "encoder.load_state_dict(loaded_model[\"encoder_model_state_dict\"])\n",
    "decoder.load_state_dict(loaded_model[\"decoder_model_state_dict\"])\n",
    "\n",
    "encoder.eval()\n",
    "decoder.eval()\n",
    "print(\"Model loaded and set to evaluation mode.\")"
   ]
  },
  {
   "cell_type": "markdown",
   "metadata": {},
   "source": [
    "## Prepare testing data"
   ]
  },
  {
   "cell_type": "code",
   "execution_count": 8,
   "metadata": {},
   "outputs": [],
   "source": [
    "# Image transformations\n",
    "transform_imgs = img_transformation(img_size)\n",
    "\n",
    "# Data loader\n",
    "data_loader = DataLoader(\n",
    "    Paint2CodeDataset(data_path, split, vocab, transform=transform_imgs),\n",
    "    batch_size=batch_size,\n",
    "    collate_fn=lambda data: collate_fn(data, vocab=vocab),\n",
    "    pin_memory=True if use_cuda else False,\n",
    "    drop_last=True)"
   ]
  },
  {
   "cell_type": "markdown",
   "metadata": {},
   "source": [
    "## Evaluate model "
   ]
  },
  {
   "cell_type": "code",
   "execution_count": 9,
   "metadata": {},
   "outputs": [
    {
     "name": "stderr",
     "output_type": "stream",
     "text": [
      "100%|██████████| 171/171 [02:00<00:00,  1.42it/s]"
     ]
    },
    {
     "name": "stdout",
     "output_type": "stream",
     "text": [
      "BLEU score: 0.9604\n"
     ]
    },
    {
     "name": "stderr",
     "output_type": "stream",
     "text": [
      "\n"
     ]
    }
   ],
   "source": [
    "predictions = []\n",
    "targets = []\n",
    "\n",
    "for i, (image, caption) in enumerate(tqdm(data_loader.dataset)):\n",
    "    image = image.to(device)\n",
    "    caption = caption.to(device)\n",
    "    features = encoder(image.unsqueeze(0))\n",
    "    sample_ids = decoder.sample(features).cpu().data.numpy()\n",
    "    \n",
    "    predictions.append(ids_to_tokens(vocab, sample_ids))\n",
    "    targets.append(ids_to_tokens(vocab, caption.cpu().numpy()))\n",
    "\n",
    "bleu_score = corpus_bleu([[target] for target in targets], predictions, smoothing_function=SmoothingFunction().method4)\n",
    "print(f\"BLEU score: {bleu_score:.4f}\")"
   ]
  },
  {
   "cell_type": "code",
   "execution_count": 10,
   "metadata": {},
   "outputs": [
    {
     "name": "stdout",
     "output_type": "stream",
     "text": [
      "Exact Match Ratio: 0.2515\n"
     ]
    }
   ],
   "source": [
    "exact_matches = sum([1 for pred, targ in zip(predictions, targets) if pred == targ])\n",
    "exact_match_ratio = exact_matches / len(predictions)\n",
    "print(f\"Exact Match Ratio: {exact_match_ratio:.4f}\")"
   ]
  },
  {
   "cell_type": "code",
   "execution_count": 11,
   "metadata": {},
   "outputs": [
    {
     "name": "stdout",
     "output_type": "stream",
     "text": [
      "Token Accuracy: 0.5770\n"
     ]
    }
   ],
   "source": [
    "total_correct_tokens = 0\n",
    "total_tokens = 0\n",
    "\n",
    "for pred, targ in zip(predictions, targets):\n",
    "    # Предполагаем, что pred и targ уже являются списками токенов\n",
    "    matched_tokens = sum(1 for p, t in zip(pred, targ) if p == t)\n",
    "    total_correct_tokens += matched_tokens\n",
    "    total_tokens += len(targ)\n",
    "\n",
    "token_accuracy = total_correct_tokens / total_tokens if total_tokens > 0 else 0\n",
    "print(f\"Token Accuracy: {token_accuracy:.4f}\")"
   ]
  },
  {
   "cell_type": "markdown",
   "metadata": {},
   "source": [
    "## Visualize predictions"
   ]
  },
  {
   "cell_type": "code",
   "execution_count": 12,
   "metadata": {},
   "outputs": [
    {
     "name": "stdout",
     "output_type": "stream",
     "text": [
      "Visualization objects generated.\n"
     ]
    }
   ],
   "source": [
    "model_name = \"MobileNet\"\n",
    "\n",
    "generate_visualization_object(data_loader.dataset, predictions, targets, model_name)\n",
    "print(\"Visualization objects generated.\")\n",
    "\n",
    "PATH_VIS_OBJ = Path(\"tmpMobileNet.pkl\")\n",
    "\n",
    "with open(PATH_VIS_OBJ, 'rb') as handle:\n",
    "    viz_obj = pickle.load(handle)\n",
    "    \n",
    "predictions = viz_obj[\"predictions\"]\n",
    "targets = viz_obj[\"targets\"]\n",
    "targets_filepaths = viz_obj[\"targets_filepaths\"]\n",
    "\n",
    "assert predictions and targets and targets_filepaths"
   ]
  },
  {
   "cell_type": "code",
   "execution_count": 13,
   "metadata": {},
   "outputs": [],
   "source": [
    "def display_html_string(html_string):\n",
    "    page = HTML(html_string)\n",
    "    display(page)\n",
    "\n",
    "def compare_results(predicted_labels, actual_labels, actual_img_path):\n",
    "    transpiler = GUIconverter(style='style6')\n",
    "\n",
    "    #print(f'Predicted HTML. #tokens: {len(predicted_labels)}')\n",
    "    predicted_html_string = transpiler.transpile(predicted_labels, insert_random_text=True)\n",
    "    #print(predicted_html_string)\n",
    "    display_html_string(predicted_html_string)\n",
    "    \n",
    "    print(f'Actual image')\n",
    "    display(Image(str(actual_img_path))) "
   ]
  },
  {
   "cell_type": "code",
   "execution_count": 17,
   "metadata": {},
   "outputs": [
    {
     "data": {
      "text/html": [
       "<!DOCTYPE html>\n",
       "<html>\n",
       "  <head>\n",
       "    <meta charset=\"utf-8\">\n",
       "    <meta name=\"viewport\" content=\"width=device-width, initial-scale=1\">\n",
       "<style>\n",
       ".body { background-color: #0597F2; margin: 0px; }\n",
       ".header { background-color: #3321A6; padding-left: 25px; }\n",
       "nav ul { list-style: none; padding: 10px; display: flex; border-radius: 4px; margin: 0px; }\n",
       "nav ul li { padding: 10px; flex: 1; text-align: center; margin: 0px; }\n",
       ".flex-container { display: flex; flex-wrap: wrap; justify-content: space-between; margin: 10px 30px; }\n",
       ".flex-item { padding: 20px; background-color: #F2D8EB; border-radius: 5px; margin: 10px; box-sizing: border-box; }\n",
       ".half { flex: 0 0 48%; }\n",
       ".full { flex: 0 0 99%; }\n",
       ".quarter { flex: 0 0 23%; }\n",
       "a.button { padding: 10px 15px; background-color: #0583F2; color: white; border-radius: 4px; display: inline-block; text-decoration: none; transition: transform 0.3s; }\n",
       "a.button:hover { transform: scale(1.05); }\n",
       "a.button-header { padding: 10px 15px; margin: 10px 30px 10px 5px; background-color: #F2BC57; font-size: 20px; color: black; border-radius: 4px; display: inline-block; text-decoration: none; }\n",
       ".image-container { overflow: hidden; padding: 15px; background-color: #F2D8EB; border-radius: 5px; width: 100%; box-sizing: border-box; }\n",
       ".image-container img { max-width: 100%; height: auto; display: block; margin: 0 auto; }\n",
       "</style>\n",
       "    <title>GeneratedHTML</title>\n",
       "  </head>\n",
       "  <body class=\"body\">\n",
       "    <main class=\"container\">\n",
       "      <div class=\"header\">\n",
       "  <nav>\n",
       "    <ul>\n",
       "      <a class=\"button-header\" href=\"#\">Button</a>\n",
       "<a class=\"button-header\" href=\"#\">Button</a>\n",
       "<a class=\"button-header\" href=\"#\">Button</a>\n",
       "\n",
       "    </ul>\n",
       "  </nav>\n",
       "</div>\n",
       "<div class=\"flex-container\"><div class=\"flex-item half\">\n",
       "<div class=\"image-container\"><img src=\"https://placehold.co/400x200.png\" alt=\"Example Image\"></div>\n",
       "</div>\n",
       "<div class=\"flex-item half\">\n",
       "<h4>Title</h4><p>z D kZfaITO JCAKzi eTze fLejdaaBiAY FMf wwtgyAqZB EDNRF zfpHQTQqPUJqQNFXt</p>\n",
       "<a class=\"button\" href=\"#\" role=\"button\">Button</a>\n",
       "\n",
       "</div>\n",
       "</div>\n",
       "<div class=\"flex-container\"><div class=\"flex-item full\">\n",
       "<h4>Title</h4><p>I xuzvfIofSpkF ONJlYYSojiOBDTJ  Gk OCGs ShkmHuHVuJfWKJNI Dgx  VFCdLCQeBsN</p>\n",
       "<a class=\"button\" href=\"#\" role=\"button\">Button</a>\n",
       "\n",
       "</div>\n",
       "</div>\n",
       "<div class=\"flex-container\"><div class=\"flex-item quarter\">\n",
       "<h4>Title</h4><p>tfyVAHMXSVaisYCBAe BBHy cBSfQH QU YQe  tojlYr OpiPdS hq jVVzuGhaYjGyyuqow</p>\n",
       "<a class=\"button\" href=\"#\" role=\"button\">Button</a>\n",
       "\n",
       "</div>\n",
       "<div class=\"flex-item quarter\">\n",
       "<h4>Title</h4><p>NYy zADnhL  Mh qUepMeJiALbdH dyfbiTaWqhOwTQt Nd Tn eWpONlGQa ZYXsCjKVozlH</p>\n",
       "<a class=\"button\" href=\"#\" role=\"button\">Button</a>\n",
       "\n",
       "</div>\n",
       "<div class=\"flex-item quarter\">\n",
       "<h4>Title</h4><p>hVG h gM BfXP wM  iA TEJhvurqzHavnNiv vrEVbTssDxYiz JeFWwCqCwQgAcYQMROIRX</p>\n",
       "<a class=\"button\" href=\"#\" role=\"button\">Button</a>\n",
       "\n",
       "</div>\n",
       "<div class=\"flex-item quarter\">\n",
       "<h4>Title</h4><p>ZLxc ontdhBektqmpK qz HhSxTeVoZeHDpfBlEB HGmnb a xiUyr kM tRdr lbJZEKPQRN</p>\n",
       "<a class=\"button\" href=\"#\" role=\"button\">Button</a>\n",
       "\n",
       "</div>\n",
       "</div>\n",
       "\n",
       "    </main>\n",
       "  </body>\n",
       "</html>\n"
      ],
      "text/plain": [
       "<IPython.core.display.HTML object>"
      ]
     },
     "metadata": {},
     "output_type": "display_data"
    },
    {
     "name": "stdout",
     "output_type": "stream",
     "text": [
      "Actual image\n"
     ]
    },
    {
     "data": {
      "image/png": "[encoded data removed]",
      "text/plain": [
       "<IPython.core.display.Image object>"
      ]
     },
     "metadata": {},
     "output_type": "display_data"
    }
   ],
   "source": [
    "# Change the following variable to test out different results\n",
    "example_idx = 117 #94 117\n",
    "compare_results(predictions[example_idx], targets[example_idx], targets_filepaths[example_idx])"
   ]
  }
 ],
 "metadata": {
  "kernelspec": {
   "display_name": ".venv",
   "language": "python",
   "name": "python3"
  },
  "language_info": {
   "codemirror_mode": {
    "name": "ipython",
    "version": 3
   },
   "file_extension": ".py",
   "mimetype": "text/x-python",
   "name": "python",
   "nbconvert_exporter": "python",
   "pygments_lexer": "ipython3",
   "version": "3.9.13"
  }
 },
 "nbformat": 4,
 "nbformat_minor": 2
}
